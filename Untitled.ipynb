{
 "cells": [
  {
   "cell_type": "code",
   "execution_count": null,
   "metadata": {},
   "outputs": [],
   "source": [
    "import csv\n",
    "from datetime import datetime\n",
    "import time\n",
    "import os\n",
    "from apscheduler.schedulers.background import BackgroundScheduler\n",
    "\n",
    "class Scheduler:\n",
    "    \n",
    "    def __init__(self):\n",
    "        self.sched = BackgroundScheduler()\n",
    "        self.sched.start()\n",
    "\n",
    "    def run_order(self, order):\n",
    "        # Starts the IQOption API on a new thread\n",
    "        print(f'{order} running @ {datetime.now()}')\n",
    "\n",
    "    def add_schedule(self, order):\n",
    "        self.sched.add_job(self.run_order, 'date', run_date=order[0], args=[order])\n",
    "\n",
    "        print('Press Ctrl+{0} to exit'.format('Break' if os.name == 'nt' else 'C'))\n",
    "    \n",
    "    def stop_schedule(self):\n",
    "            # Not strictly necessary if daemonic mode is enabled but should be done if possible\n",
    "        self.sched.shutdown()\n",
    "\n",
    "    def schedule_csv(self, file):\n",
    "        with open(file) as csv_file:\n",
    "            csv_reader = csv.reader(csv_file, delimiter=',')\n",
    "\n",
    "            for line in csv_reader:\n",
    "                print(line)\n",
    "                self.add_schedule(line)\n",
    "\n",
    "    \n",
    "if __name__ == '__main__':\n",
    "    sc = Scheduler()\n",
    "    sc.schedule_csv_content('data.csv')"
   ]
  },
  {
   "cell_type": "code",
   "execution_count": 12,
   "metadata": {},
   "outputs": [
    {
     "ename": "ModuleNotFoundError",
     "evalue": "No module named 'apscheduler.scheduler'",
     "output_type": "error",
     "traceback": [
      "\u001b[0;31m---------------------------------------------------------------------------\u001b[0m",
      "\u001b[0;31mModuleNotFoundError\u001b[0m                       Traceback (most recent call last)",
      "\u001b[0;32m<ipython-input-12-31bc71276da1>\u001b[0m in \u001b[0;36m<module>\u001b[0;34m\u001b[0m\n\u001b[1;32m      1\u001b[0m \u001b[0;32mfrom\u001b[0m \u001b[0mdatetime\u001b[0m \u001b[0;32mimport\u001b[0m \u001b[0mdate\u001b[0m\u001b[0;34m\u001b[0m\u001b[0;34m\u001b[0m\u001b[0m\n\u001b[0;32m----> 2\u001b[0;31m \u001b[0;32mfrom\u001b[0m \u001b[0mapscheduler\u001b[0m\u001b[0;34m.\u001b[0m\u001b[0mscheduler\u001b[0m \u001b[0;32mimport\u001b[0m \u001b[0mScheduler\u001b[0m\u001b[0;34m\u001b[0m\u001b[0;34m\u001b[0m\u001b[0m\n\u001b[0m\u001b[1;32m      3\u001b[0m \u001b[0;34m\u001b[0m\u001b[0m\n\u001b[1;32m      4\u001b[0m \u001b[0;31m# Start the scheduler\u001b[0m\u001b[0;34m\u001b[0m\u001b[0;34m\u001b[0m\u001b[0;34m\u001b[0m\u001b[0m\n\u001b[1;32m      5\u001b[0m \u001b[0msched\u001b[0m \u001b[0;34m=\u001b[0m \u001b[0mScheduler\u001b[0m\u001b[0;34m(\u001b[0m\u001b[0;34m)\u001b[0m\u001b[0;34m\u001b[0m\u001b[0;34m\u001b[0m\u001b[0m\n",
      "\u001b[0;31mModuleNotFoundError\u001b[0m: No module named 'apscheduler.scheduler'"
     ]
    }
   ],
   "source": [
    "from datetime import date\n",
    "from apscheduler.scheduler import Scheduler\n",
    "\n",
    "# Start the scheduler\n",
    "sched = Scheduler()\n",
    "sched.start()\n",
    "\n",
    "# Define the function that is to be executed\n",
    "def my_job(text):\n",
    "    print (\"executado\", text)\n",
    "\n",
    "# The job will be executed on November 6th, 2009\n",
    "exec_date = date(2020, 4, 24)\n",
    "\n",
    "# Store the job in a variable in case we want to cancel it\n",
    "job = sched.add_date_job(my_job, exec_date, ['Job295894'])"
   ]
  },
  {
   "cell_type": "code",
   "execution_count": 19,
   "metadata": {},
   "outputs": [
    {
     "name": "stdout",
     "output_type": "stream",
     "text": [
      "Press Ctrl+C to exit\n",
      "Tick! The time is: 2020-04-24 22:18:00.000478\n"
     ]
    }
   ],
   "source": [
    "\n",
    "\n",
    "from datetime import datetime\n",
    "import time\n",
    "import os\n",
    "\n",
    "from apscheduler.schedulers.background import BackgroundScheduler\n",
    "\n",
    "\n",
    "def tick(arg):\n",
    "    print('Tick! The time is: %s' % datetime.now())\n",
    "\n",
    "\n",
    "if __name__ == '__main__':\n",
    "    scheduler = BackgroundScheduler()\n",
    "    scheduler.add_job(tick, 'date', run_date='2020-04-24 22:18:00', args=['AQUI'])\n",
    "    scheduler.start()\n",
    "    print('Press Ctrl+{0} to exit'.format('Break' if os.name == 'nt' else 'C'))\n",
    "\n",
    "    try:\n",
    "        # This is here to simulate application activity (which keeps the main thread alive).\n",
    "        while True:\n",
    "            time.sleep(2)\n",
    "    except (KeyboardInterrupt, SystemExit):\n",
    "        # Not strictly necessary if daemonic mode is enabled but should be done if possible\n",
    "        scheduler.shutdown()"
   ]
  }
 ],
 "metadata": {
  "kernelspec": {
   "display_name": "Python 3",
   "language": "python",
   "name": "python3"
  },
  "language_info": {
   "codemirror_mode": {
    "name": "ipython",
    "version": 3
   },
   "file_extension": ".py",
   "mimetype": "text/x-python",
   "name": "python",
   "nbconvert_exporter": "python",
   "pygments_lexer": "ipython3",
   "version": "3.6.9"
  }
 },
 "nbformat": 4,
 "nbformat_minor": 4
}
